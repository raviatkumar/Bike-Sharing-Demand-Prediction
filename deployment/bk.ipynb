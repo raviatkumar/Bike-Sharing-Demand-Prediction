{
  "nbformat": 4,
  "nbformat_minor": 0,
  "metadata": {
    "colab": {
      "provenance": []
    },
    "kernelspec": {
      "name": "python3",
      "display_name": "Python 3"
    },
    "language_info": {
      "name": "python"
    }
  },
  "cells": [
    {
      "cell_type": "code",
      "execution_count": 16,
      "metadata": {
        "id": "Jmy5hZNSdvhh"
      },
      "outputs": [],
      "source": [
        "#Importing required libray\n",
        "import pandas as pd\n",
        "import numpy as np\n",
        "import seaborn as sns\n",
        "import matplotlib.pyplot as plt\n",
        "%matplotlib inline\n",
        "import datetime as dt\n",
        "import math\n",
        "from sklearn.model_selection import GridSearchCV\n",
        "from sklearn.ensemble import RandomForestRegressor\n",
        "from sklearn.preprocessing import MinMaxScaler,StandardScaler\n",
        "from sklearn.metrics import r2_score,mean_squared_error\n",
        "from sklearn.metrics import mean_absolute_error\n",
        "import pickle"
      ]
    },
    {
      "cell_type": "code",
      "source": [
        "#Mouting the drive\n",
        "from google.colab import drive\n",
        "drive.mount('/content/drive')"
      ],
      "metadata": {
        "colab": {
          "base_uri": "https://localhost:8080/"
        },
        "id": "wbheG_6bdwpW",
        "outputId": "73025be9-cd48-43c8-d1b8-68939267615f"
      },
      "execution_count": 2,
      "outputs": [
        {
          "output_type": "stream",
          "name": "stdout",
          "text": [
            "Mounted at /content/drive\n"
          ]
        }
      ]
    },
    {
      "cell_type": "code",
      "source": [
        "#readinf the csv file\n",
        "df=pd.read_csv('/content/drive/MyDrive/flask_delpoyment/SeoulBikeData.csv',encoding='latin')"
      ],
      "metadata": {
        "id": "Cnt81KEGdyMz"
      },
      "execution_count": 3,
      "outputs": []
    },
    {
      "cell_type": "code",
      "source": [
        "# Preprocessing the data\n",
        "df['Date'] = df['Date'].apply(lambda x: dt.datetime.strptime(x, \"%d/%m/%Y\"))\n",
        "df['year'] = df['Date'].apply(lambda x: x.year)\n",
        "df['month'] = df['Date'].apply(lambda x: x.month)\n",
        "df['day'] = df['Date'].apply(lambda x: x.day)\n",
        "df = df.drop(columns=['Date'], axis=1)\n",
        "df['Rainfall(mm)'] = df['Rainfall(mm)'].fillna(df['Rainfall(mm)'].median())\n",
        "df['Wind speed (m/s)'] = df['Wind speed (m/s)'].fillna(df['Wind speed (m/s)'].median())\n",
        "df['Snowfall (cm)'] = df['Snowfall (cm)'].fillna(df['Snowfall (cm)'].median())\n",
        "df['Solar Radiation (MJ/m2)'] = df['Solar Radiation (MJ/m2)'].fillna(df['Solar Radiation (MJ/m2)'].median())"
      ],
      "metadata": {
        "id": "SRz2UCohd_NC"
      },
      "execution_count": 4,
      "outputs": []
    },
    {
      "cell_type": "code",
      "source": [
        "# Encoding for Seasons column\n",
        "df = pd.get_dummies(df, columns=['Seasons'], drop_first=True)"
      ],
      "metadata": {
        "id": "6fziidDjeDGz"
      },
      "execution_count": 5,
      "outputs": []
    },
    {
      "cell_type": "code",
      "source": [
        "# Encoding for Functioning Day column\n",
        "df['Functioning Day'] = df['Functioning Day'].map({'Yes': 1, 'No': 0})"
      ],
      "metadata": {
        "id": "cZuY9PNTeGKh"
      },
      "execution_count": 6,
      "outputs": []
    },
    {
      "cell_type": "code",
      "source": [
        "# Encoding for Holiday column\n",
        "df['Holiday'] = df['Holiday'].map({'Holiday': 1, 'No Holiday': 0})"
      ],
      "metadata": {
        "id": "X4OGOMl8eHsy"
      },
      "execution_count": 7,
      "outputs": []
    },
    {
      "cell_type": "code",
      "source": [
        "X = df.drop(columns=['Rented Bike Count'], axis=1)\n",
        "y = df['Rented Bike Count']"
      ],
      "metadata": {
        "id": "fAvzE613eJPB"
      },
      "execution_count": 8,
      "outputs": []
    },
    {
      "cell_type": "code",
      "source": [
        "X"
      ],
      "metadata": {
        "colab": {
          "base_uri": "https://localhost:8080/",
          "height": 522
        },
        "id": "dYDG7sG8eK-h",
        "outputId": "95eb9afb-e086-40f4-b704-3a20f2d5d3a8"
      },
      "execution_count": 9,
      "outputs": [
        {
          "output_type": "execute_result",
          "data": {
            "text/plain": [
              "      Hour  Temperature(è)  Humidity(%)  Wind speed (m/s)  Visibility (10m)  \\\n",
              "0        0              -5.2           37               2.2              2000   \n",
              "1        1              -5.5           38               0.8              2000   \n",
              "2        2              -6.0           39               1.0              2000   \n",
              "3        3              -6.2           40               0.9              2000   \n",
              "4        4              -6.0           36               2.3              2000   \n",
              "...    ...               ...          ...               ...               ...   \n",
              "8755    19               4.2           34               2.6              1894   \n",
              "8756    20               3.4           37               2.3              2000   \n",
              "8757    21               2.6           39               0.3              1968   \n",
              "8758    22               2.1           41               1.0              1859   \n",
              "8759    23               1.9           43               1.3              1909   \n",
              "\n",
              "      Dew point temperature(è)  Solar Radiation (MJ/m2)  Rainfall(mm)  \\\n",
              "0                          -17.6                      0.0           0.0   \n",
              "1                          -17.6                      0.0           0.0   \n",
              "2                          -17.7                      0.0           0.0   \n",
              "3                          -17.6                      0.0           0.0   \n",
              "4                          -18.6                      0.0           0.0   \n",
              "...                          ...                      ...           ...   \n",
              "8755                       -10.3                      0.0           0.0   \n",
              "8756                        -9.9                      0.0           0.0   \n",
              "8757                        -9.9                      0.0           0.0   \n",
              "8758                        -9.8                      0.0           0.0   \n",
              "8759                        -9.3                      0.0           0.0   \n",
              "\n",
              "      Snowfall (cm)  Holiday  Functioning Day  year  month  day  \\\n",
              "0               0.0        0                1  2017     12    1   \n",
              "1               0.0        0                1  2017     12    1   \n",
              "2               0.0        0                1  2017     12    1   \n",
              "3               0.0        0                1  2017     12    1   \n",
              "4               0.0        0                1  2017     12    1   \n",
              "...             ...      ...              ...   ...    ...  ...   \n",
              "8755            0.0        0                1  2018     11   30   \n",
              "8756            0.0        0                1  2018     11   30   \n",
              "8757            0.0        0                1  2018     11   30   \n",
              "8758            0.0        0                1  2018     11   30   \n",
              "8759            0.0        0                1  2018     11   30   \n",
              "\n",
              "      Seasons_Spring  Seasons_Summer  Seasons_Winter  \n",
              "0                  0               0               1  \n",
              "1                  0               0               1  \n",
              "2                  0               0               1  \n",
              "3                  0               0               1  \n",
              "4                  0               0               1  \n",
              "...              ...             ...             ...  \n",
              "8755               0               0               0  \n",
              "8756               0               0               0  \n",
              "8757               0               0               0  \n",
              "8758               0               0               0  \n",
              "8759               0               0               0  \n",
              "\n",
              "[8760 rows x 17 columns]"
            ],
            "text/html": [
              "\n",
              "  <div id=\"df-5a5b0951-a548-49c0-a859-8e65d697ac04\">\n",
              "    <div class=\"colab-df-container\">\n",
              "      <div>\n",
              "<style scoped>\n",
              "    .dataframe tbody tr th:only-of-type {\n",
              "        vertical-align: middle;\n",
              "    }\n",
              "\n",
              "    .dataframe tbody tr th {\n",
              "        vertical-align: top;\n",
              "    }\n",
              "\n",
              "    .dataframe thead th {\n",
              "        text-align: right;\n",
              "    }\n",
              "</style>\n",
              "<table border=\"1\" class=\"dataframe\">\n",
              "  <thead>\n",
              "    <tr style=\"text-align: right;\">\n",
              "      <th></th>\n",
              "      <th>Hour</th>\n",
              "      <th>Temperature(è)</th>\n",
              "      <th>Humidity(%)</th>\n",
              "      <th>Wind speed (m/s)</th>\n",
              "      <th>Visibility (10m)</th>\n",
              "      <th>Dew point temperature(è)</th>\n",
              "      <th>Solar Radiation (MJ/m2)</th>\n",
              "      <th>Rainfall(mm)</th>\n",
              "      <th>Snowfall (cm)</th>\n",
              "      <th>Holiday</th>\n",
              "      <th>Functioning Day</th>\n",
              "      <th>year</th>\n",
              "      <th>month</th>\n",
              "      <th>day</th>\n",
              "      <th>Seasons_Spring</th>\n",
              "      <th>Seasons_Summer</th>\n",
              "      <th>Seasons_Winter</th>\n",
              "    </tr>\n",
              "  </thead>\n",
              "  <tbody>\n",
              "    <tr>\n",
              "      <th>0</th>\n",
              "      <td>0</td>\n",
              "      <td>-5.2</td>\n",
              "      <td>37</td>\n",
              "      <td>2.2</td>\n",
              "      <td>2000</td>\n",
              "      <td>-17.6</td>\n",
              "      <td>0.0</td>\n",
              "      <td>0.0</td>\n",
              "      <td>0.0</td>\n",
              "      <td>0</td>\n",
              "      <td>1</td>\n",
              "      <td>2017</td>\n",
              "      <td>12</td>\n",
              "      <td>1</td>\n",
              "      <td>0</td>\n",
              "      <td>0</td>\n",
              "      <td>1</td>\n",
              "    </tr>\n",
              "    <tr>\n",
              "      <th>1</th>\n",
              "      <td>1</td>\n",
              "      <td>-5.5</td>\n",
              "      <td>38</td>\n",
              "      <td>0.8</td>\n",
              "      <td>2000</td>\n",
              "      <td>-17.6</td>\n",
              "      <td>0.0</td>\n",
              "      <td>0.0</td>\n",
              "      <td>0.0</td>\n",
              "      <td>0</td>\n",
              "      <td>1</td>\n",
              "      <td>2017</td>\n",
              "      <td>12</td>\n",
              "      <td>1</td>\n",
              "      <td>0</td>\n",
              "      <td>0</td>\n",
              "      <td>1</td>\n",
              "    </tr>\n",
              "    <tr>\n",
              "      <th>2</th>\n",
              "      <td>2</td>\n",
              "      <td>-6.0</td>\n",
              "      <td>39</td>\n",
              "      <td>1.0</td>\n",
              "      <td>2000</td>\n",
              "      <td>-17.7</td>\n",
              "      <td>0.0</td>\n",
              "      <td>0.0</td>\n",
              "      <td>0.0</td>\n",
              "      <td>0</td>\n",
              "      <td>1</td>\n",
              "      <td>2017</td>\n",
              "      <td>12</td>\n",
              "      <td>1</td>\n",
              "      <td>0</td>\n",
              "      <td>0</td>\n",
              "      <td>1</td>\n",
              "    </tr>\n",
              "    <tr>\n",
              "      <th>3</th>\n",
              "      <td>3</td>\n",
              "      <td>-6.2</td>\n",
              "      <td>40</td>\n",
              "      <td>0.9</td>\n",
              "      <td>2000</td>\n",
              "      <td>-17.6</td>\n",
              "      <td>0.0</td>\n",
              "      <td>0.0</td>\n",
              "      <td>0.0</td>\n",
              "      <td>0</td>\n",
              "      <td>1</td>\n",
              "      <td>2017</td>\n",
              "      <td>12</td>\n",
              "      <td>1</td>\n",
              "      <td>0</td>\n",
              "      <td>0</td>\n",
              "      <td>1</td>\n",
              "    </tr>\n",
              "    <tr>\n",
              "      <th>4</th>\n",
              "      <td>4</td>\n",
              "      <td>-6.0</td>\n",
              "      <td>36</td>\n",
              "      <td>2.3</td>\n",
              "      <td>2000</td>\n",
              "      <td>-18.6</td>\n",
              "      <td>0.0</td>\n",
              "      <td>0.0</td>\n",
              "      <td>0.0</td>\n",
              "      <td>0</td>\n",
              "      <td>1</td>\n",
              "      <td>2017</td>\n",
              "      <td>12</td>\n",
              "      <td>1</td>\n",
              "      <td>0</td>\n",
              "      <td>0</td>\n",
              "      <td>1</td>\n",
              "    </tr>\n",
              "    <tr>\n",
              "      <th>...</th>\n",
              "      <td>...</td>\n",
              "      <td>...</td>\n",
              "      <td>...</td>\n",
              "      <td>...</td>\n",
              "      <td>...</td>\n",
              "      <td>...</td>\n",
              "      <td>...</td>\n",
              "      <td>...</td>\n",
              "      <td>...</td>\n",
              "      <td>...</td>\n",
              "      <td>...</td>\n",
              "      <td>...</td>\n",
              "      <td>...</td>\n",
              "      <td>...</td>\n",
              "      <td>...</td>\n",
              "      <td>...</td>\n",
              "      <td>...</td>\n",
              "    </tr>\n",
              "    <tr>\n",
              "      <th>8755</th>\n",
              "      <td>19</td>\n",
              "      <td>4.2</td>\n",
              "      <td>34</td>\n",
              "      <td>2.6</td>\n",
              "      <td>1894</td>\n",
              "      <td>-10.3</td>\n",
              "      <td>0.0</td>\n",
              "      <td>0.0</td>\n",
              "      <td>0.0</td>\n",
              "      <td>0</td>\n",
              "      <td>1</td>\n",
              "      <td>2018</td>\n",
              "      <td>11</td>\n",
              "      <td>30</td>\n",
              "      <td>0</td>\n",
              "      <td>0</td>\n",
              "      <td>0</td>\n",
              "    </tr>\n",
              "    <tr>\n",
              "      <th>8756</th>\n",
              "      <td>20</td>\n",
              "      <td>3.4</td>\n",
              "      <td>37</td>\n",
              "      <td>2.3</td>\n",
              "      <td>2000</td>\n",
              "      <td>-9.9</td>\n",
              "      <td>0.0</td>\n",
              "      <td>0.0</td>\n",
              "      <td>0.0</td>\n",
              "      <td>0</td>\n",
              "      <td>1</td>\n",
              "      <td>2018</td>\n",
              "      <td>11</td>\n",
              "      <td>30</td>\n",
              "      <td>0</td>\n",
              "      <td>0</td>\n",
              "      <td>0</td>\n",
              "    </tr>\n",
              "    <tr>\n",
              "      <th>8757</th>\n",
              "      <td>21</td>\n",
              "      <td>2.6</td>\n",
              "      <td>39</td>\n",
              "      <td>0.3</td>\n",
              "      <td>1968</td>\n",
              "      <td>-9.9</td>\n",
              "      <td>0.0</td>\n",
              "      <td>0.0</td>\n",
              "      <td>0.0</td>\n",
              "      <td>0</td>\n",
              "      <td>1</td>\n",
              "      <td>2018</td>\n",
              "      <td>11</td>\n",
              "      <td>30</td>\n",
              "      <td>0</td>\n",
              "      <td>0</td>\n",
              "      <td>0</td>\n",
              "    </tr>\n",
              "    <tr>\n",
              "      <th>8758</th>\n",
              "      <td>22</td>\n",
              "      <td>2.1</td>\n",
              "      <td>41</td>\n",
              "      <td>1.0</td>\n",
              "      <td>1859</td>\n",
              "      <td>-9.8</td>\n",
              "      <td>0.0</td>\n",
              "      <td>0.0</td>\n",
              "      <td>0.0</td>\n",
              "      <td>0</td>\n",
              "      <td>1</td>\n",
              "      <td>2018</td>\n",
              "      <td>11</td>\n",
              "      <td>30</td>\n",
              "      <td>0</td>\n",
              "      <td>0</td>\n",
              "      <td>0</td>\n",
              "    </tr>\n",
              "    <tr>\n",
              "      <th>8759</th>\n",
              "      <td>23</td>\n",
              "      <td>1.9</td>\n",
              "      <td>43</td>\n",
              "      <td>1.3</td>\n",
              "      <td>1909</td>\n",
              "      <td>-9.3</td>\n",
              "      <td>0.0</td>\n",
              "      <td>0.0</td>\n",
              "      <td>0.0</td>\n",
              "      <td>0</td>\n",
              "      <td>1</td>\n",
              "      <td>2018</td>\n",
              "      <td>11</td>\n",
              "      <td>30</td>\n",
              "      <td>0</td>\n",
              "      <td>0</td>\n",
              "      <td>0</td>\n",
              "    </tr>\n",
              "  </tbody>\n",
              "</table>\n",
              "<p>8760 rows × 17 columns</p>\n",
              "</div>\n",
              "      <button class=\"colab-df-convert\" onclick=\"convertToInteractive('df-5a5b0951-a548-49c0-a859-8e65d697ac04')\"\n",
              "              title=\"Convert this dataframe to an interactive table.\"\n",
              "              style=\"display:none;\">\n",
              "        \n",
              "  <svg xmlns=\"http://www.w3.org/2000/svg\" height=\"24px\"viewBox=\"0 0 24 24\"\n",
              "       width=\"24px\">\n",
              "    <path d=\"M0 0h24v24H0V0z\" fill=\"none\"/>\n",
              "    <path d=\"M18.56 5.44l.94 2.06.94-2.06 2.06-.94-2.06-.94-.94-2.06-.94 2.06-2.06.94zm-11 1L8.5 8.5l.94-2.06 2.06-.94-2.06-.94L8.5 2.5l-.94 2.06-2.06.94zm10 10l.94 2.06.94-2.06 2.06-.94-2.06-.94-.94-2.06-.94 2.06-2.06.94z\"/><path d=\"M17.41 7.96l-1.37-1.37c-.4-.4-.92-.59-1.43-.59-.52 0-1.04.2-1.43.59L10.3 9.45l-7.72 7.72c-.78.78-.78 2.05 0 2.83L4 21.41c.39.39.9.59 1.41.59.51 0 1.02-.2 1.41-.59l7.78-7.78 2.81-2.81c.8-.78.8-2.07 0-2.86zM5.41 20L4 18.59l7.72-7.72 1.47 1.35L5.41 20z\"/>\n",
              "  </svg>\n",
              "      </button>\n",
              "      \n",
              "  <style>\n",
              "    .colab-df-container {\n",
              "      display:flex;\n",
              "      flex-wrap:wrap;\n",
              "      gap: 12px;\n",
              "    }\n",
              "\n",
              "    .colab-df-convert {\n",
              "      background-color: #E8F0FE;\n",
              "      border: none;\n",
              "      border-radius: 50%;\n",
              "      cursor: pointer;\n",
              "      display: none;\n",
              "      fill: #1967D2;\n",
              "      height: 32px;\n",
              "      padding: 0 0 0 0;\n",
              "      width: 32px;\n",
              "    }\n",
              "\n",
              "    .colab-df-convert:hover {\n",
              "      background-color: #E2EBFA;\n",
              "      box-shadow: 0px 1px 2px rgba(60, 64, 67, 0.3), 0px 1px 3px 1px rgba(60, 64, 67, 0.15);\n",
              "      fill: #174EA6;\n",
              "    }\n",
              "\n",
              "    [theme=dark] .colab-df-convert {\n",
              "      background-color: #3B4455;\n",
              "      fill: #D2E3FC;\n",
              "    }\n",
              "\n",
              "    [theme=dark] .colab-df-convert:hover {\n",
              "      background-color: #434B5C;\n",
              "      box-shadow: 0px 1px 3px 1px rgba(0, 0, 0, 0.15);\n",
              "      filter: drop-shadow(0px 1px 2px rgba(0, 0, 0, 0.3));\n",
              "      fill: #FFFFFF;\n",
              "    }\n",
              "  </style>\n",
              "\n",
              "      <script>\n",
              "        const buttonEl =\n",
              "          document.querySelector('#df-5a5b0951-a548-49c0-a859-8e65d697ac04 button.colab-df-convert');\n",
              "        buttonEl.style.display =\n",
              "          google.colab.kernel.accessAllowed ? 'block' : 'none';\n",
              "\n",
              "        async function convertToInteractive(key) {\n",
              "          const element = document.querySelector('#df-5a5b0951-a548-49c0-a859-8e65d697ac04');\n",
              "          const dataTable =\n",
              "            await google.colab.kernel.invokeFunction('convertToInteractive',\n",
              "                                                     [key], {});\n",
              "          if (!dataTable) return;\n",
              "\n",
              "          const docLinkHtml = 'Like what you see? Visit the ' +\n",
              "            '<a target=\"_blank\" href=https://colab.research.google.com/notebooks/data_table.ipynb>data table notebook</a>'\n",
              "            + ' to learn more about interactive tables.';\n",
              "          element.innerHTML = '';\n",
              "          dataTable['output_type'] = 'display_data';\n",
              "          await google.colab.output.renderOutput(dataTable, element);\n",
              "          const docLink = document.createElement('div');\n",
              "          docLink.innerHTML = docLinkHtml;\n",
              "          element.appendChild(docLink);\n",
              "        }\n",
              "      </script>\n",
              "    </div>\n",
              "  </div>\n",
              "  "
            ]
          },
          "metadata": {},
          "execution_count": 9
        }
      ]
    },
    {
      "cell_type": "code",
      "source": [
        "X.shape"
      ],
      "metadata": {
        "colab": {
          "base_uri": "https://localhost:8080/"
        },
        "id": "aFfdV5NBg54D",
        "outputId": "8024cdb3-6f6f-4a61-aab8-d3554cc62da9"
      },
      "execution_count": 10,
      "outputs": [
        {
          "output_type": "execute_result",
          "data": {
            "text/plain": [
              "(8760, 17)"
            ]
          },
          "metadata": {},
          "execution_count": 10
        }
      ]
    },
    {
      "cell_type": "code",
      "source": [
        "# Create train and test data\n",
        "from sklearn.model_selection import train_test_split\n",
        "X_train, X_test, y_train, y_test = train_test_split(X, y, test_size=0.25)"
      ],
      "metadata": {
        "id": "BT5_NLMbeLkR"
      },
      "execution_count": 11,
      "outputs": []
    },
    {
      "cell_type": "code",
      "source": [
        "# #creating paramdict to check random forest with diffirent value of parameter through gridsearch\n",
        "rf_model= RandomForestRegressor()\n",
        "n_estimators=[60,80,100]\n",
        "max_depth=[15,20]\n",
        "max_leaf_nodes=[40,60,80]\n",
        "params = {'n_estimators':n_estimators,'max_depth':max_depth ,'max_leaf_nodes':max_leaf_nodes}"
      ],
      "metadata": {
        "id": "sIoPBWCyKxa5"
      },
      "execution_count": 18,
      "outputs": []
    },
    {
      "cell_type": "code",
      "source": [
        "#Fit Model\n",
        "rf_regressor= GridSearchCV(rf_model,param_grid=params,verbose=0)\n",
        "rf_regressor=rf_regressor.fit(X_train,y_train)"
      ],
      "metadata": {
        "id": "3azBlYeRg0Hy"
      },
      "execution_count": 19,
      "outputs": []
    },
    {
      "cell_type": "code",
      "source": [
        "optimal_rf_model=rf_regressor.best_estimator_"
      ],
      "metadata": {
        "id": "RU0zg3OoeSeg"
      },
      "execution_count": 20,
      "outputs": []
    },
    {
      "cell_type": "code",
      "source": [
        "#Predict train & test values\n",
        "y_pred_train_rf = optimal_rf_model.predict(X_train)\n",
        "y_pred_test_rf = optimal_rf_model.predict(X_test)"
      ],
      "metadata": {
        "id": "jhK-j7k9mYwc"
      },
      "execution_count": 21,
      "outputs": []
    },
    {
      "cell_type": "code",
      "source": [
        "#checking the score\n",
        "print(\"The train score is :\", round(optimal_rf_model.score(X_train, y_train),2))\n",
        "print(\"The test score is :\", round(optimal_rf_model.score(X_test, y_test),2))"
      ],
      "metadata": {
        "colab": {
          "base_uri": "https://localhost:8080/"
        },
        "id": "1FB1U_IPmYzx",
        "outputId": "09add833-302c-4594-db43-2ec4f64d4247"
      },
      "execution_count": 22,
      "outputs": [
        {
          "output_type": "stream",
          "name": "stdout",
          "text": [
            "The train score is : 0.89\n",
            "The test score is : 0.85\n"
          ]
        }
      ]
    },
    {
      "cell_type": "code",
      "source": [
        "print('Evaluation metrics for training data\\n')\n",
        "#calculate MSE\n",
        "MSE_rf_train= mean_squared_error(y_train, y_pred_train_rf)\n",
        "print(\"MSE :\",MSE_rf_train)\n",
        "\n",
        "#calculate RMSE\n",
        "RMSE_rf_train=np.sqrt(MSE_rf_train)\n",
        "print(\"RMSE :\",RMSE_rf_train)\n",
        "\n",
        "#calculate MAE\n",
        "MAE_rf_train= mean_absolute_error(y_train, y_pred_train_rf)\n",
        "print(\"MAE :\",MAE_rf_train)\n",
        "\n",
        "#calculate r2 and adjusted r2\n",
        "R2_rf_train= r2_score(y_train,y_pred_train_rf)\n",
        "print(\"R2 :\",R2_rf_train)\n",
        "Adjusted_R2_rf_train = (1-(1-r2_score(y_train, y_pred_train_rf))*((X_test.shape[0]-1)/(X_test.shape[0]-X_test.shape[1]-1)) )\n",
        "print(\"Adjusted R2 :\",Adjusted_R2_rf_train)\n",
        "\n",
        "print('--'*80)\n",
        "\n",
        "print('Evaluation metrics for testing data\\n')\n",
        "\n",
        "#calculate MSE\n",
        "MSE_rf_test= mean_squared_error(y_test, y_pred_test_rf)\n",
        "print(\"MSE :\",MSE_rf_test)\n",
        "\n",
        "#calculate RMSE\n",
        "RMSE_rf_test=np.sqrt(MSE_rf_test)\n",
        "print(\"RMSE :\",RMSE_rf_test)\n",
        "\n",
        "#calculate MAE\n",
        "MAE_rf_test= mean_absolute_error(y_test, y_pred_test_rf)\n",
        "print(\"MAE :\",MAE_rf_test)\n",
        "\n",
        "#calculate r2 and adjusted r2\n",
        "R2_rf_test= r2_score(y_test, y_pred_test_rf)\n",
        "print(\"R2 :\",R2_rf_test)\n",
        "Adjusted_R2_rf_test = (1-(1-r2_score(y_test, y_pred_test_rf))*((X_test.shape[0]-1)/(X_test.shape[0]-X_test.shape[1]-1)))\n",
        "print(\"Adjusted R2 :\",Adjusted_R2_rf_test)"
      ],
      "metadata": {
        "colab": {
          "base_uri": "https://localhost:8080/"
        },
        "id": "DpsBXu0AmY2J",
        "outputId": "7a20e5fa-07ab-4bfd-ee5b-ccfcfacfe613"
      },
      "execution_count": 23,
      "outputs": [
        {
          "output_type": "stream",
          "name": "stdout",
          "text": [
            "Evaluation metrics for training data\n",
            "\n",
            "MSE : 44154.477493160084\n",
            "RMSE : 210.12966828403856\n",
            "MAE : 148.6484642847124\n",
            "R2 : 0.8935792597244314\n",
            "Adjusted R2 : 0.892746316545479\n",
            "----------------------------------------------------------------------------------------------------------------------------------------------------------------\n",
            "Evaluation metrics for testing data\n",
            "\n",
            "MSE : 64820.116435406344\n",
            "RMSE : 254.5979505718896\n",
            "MAE : 171.15216879361486\n",
            "R2 : 0.8453277977011151\n",
            "Adjusted R2 : 0.8441171957494203\n"
          ]
        }
      ]
    },
    {
      "cell_type": "code",
      "source": [
        "# Saving model\n",
        "pickle.dump(rf_regressor, open('model.pkl', 'wb'))"
      ],
      "metadata": {
        "id": "7sBIsh_oeT6x"
      },
      "execution_count": 25,
      "outputs": []
    },
    {
      "cell_type": "code",
      "source": [],
      "metadata": {
        "id": "rhP9lF1YL19w"
      },
      "execution_count": null,
      "outputs": []
    }
  ]
}